{
 "cells": [
  {
   "cell_type": "code",
   "execution_count": 3,
   "metadata": {},
   "outputs": [
    {
     "data": {
      "text/plain": [
       "[<matplotlib.lines.Line2D at 0x14b33f29e80>]"
      ]
     },
     "execution_count": 3,
     "metadata": {},
     "output_type": "execute_result"
    },
    {
     "data": {
      "image/png": "[encoded data removed]",
      "text/plain": [
       "<Figure size 432x288 with 1 Axes>"
      ]
     },
     "metadata": {
      "needs_background": "light"
     },
     "output_type": "display_data"
    }
   ],
   "source": [
    "import numpy as np \n",
    "from matplotlib.pylab import plt\n",
    "\n",
    "G = 6.673e-11\n",
    "M = 5.97e24\n",
    "R = 6371e3\n",
    "\n",
    "\n",
    "def RK4(f, init, t):\n",
    "    r = np.zeros((N,4)) \n",
    "    r[0,:] = init\n",
    "    h = t[1] - t[0]\n",
    "\n",
    "\n",
    "    for i in range(N-1):\n",
    "        k1 = h*f(r[i,:],t[i])\n",
    "        k2 = h*f(r[i,:]+k1/2, t[i]+h/2)\n",
    "        k3 = h*f(r[i,:]+k2/2, t[i]+h/2)\n",
    "        k4 = h*f(r[i,:]+k3, t[i+1])\n",
    "\n",
    "        r[i+1,:] = r[i,:] + (k1 + 2*k2 + 2*k3 + k4)/6\n",
    "    return r\n",
    "\n",
    "init = [R, 0.0, 0.0,np.sqrt(G*M/R)] #x ,y ,vx ,vy\n",
    "N = 10000\n",
    "\n",
    "\n",
    "\n",
    "t = np.linspace(0,10000,N)\n",
    "r = np.zeros((N,4))\n",
    "r[0,:] = init\n",
    "\n",
    "def F(var,t):\n",
    "    \n",
    "    x = var[0]\n",
    "    y = var[1]\n",
    "    vx = var[2]\n",
    "    vy = var[3]\n",
    "    \n",
    "    return np.array([vx, vy, -G*x*M/R**3, -G*y*M/R**3])\n",
    "\n",
    "h = t[1] - t[0]\n",
    "for i in range(N-1):\n",
    "    \n",
    "    k1 = h*F(r[i,:], t[i])\n",
    "    k2 = h*F(r[i,:] + k1/2, t[i]+h/2)\n",
    "    k3 = h*F(r[i,:] + k2/2, t[i]+h/2)\n",
    "    k4 = h*F(r[i,:] + k3, t[i+1])\n",
    "\n",
    "    \n",
    "    r[i+1,:] = r[i,:] + (k1 + 2*k2 + 2*k3 + k4)/6\n",
    "\n",
    "plt.plot(r[:,0],r[:,1])"
   ]
  },
  {
   "cell_type": "code",
   "execution_count": 11,
   "metadata": {},
   "outputs": [
    {
     "name": "stdout",
     "output_type": "stream",
     "text": [
      "Orbital Speed is 7.907586029285283 km/s and Period is 1.406180422606277 hours\n"
     ]
    }
   ],
   "source": [
    "def Orbit(r):\n",
    "    if r >= R:\n",
    "        o_vel = np.sqrt(G*M/r)\n",
    "        T = 2*np.pi*r/o_vel\n",
    "        return o_vel/1000, T/3600 #Orbital Velocity in km/s and Period in hours\n",
    "    else:\n",
    "        print('Invalid R')\n",
    "        \n",
    "vel, time = Orbit(R)\n",
    "        \n",
    "print(f'Orbital Speed is {vel} km/s and Period is {time} hours')"
   ]
  },
  {
   "cell_type": "code",
   "execution_count": null,
   "metadata": {},
   "outputs": [],
   "source": []
  },
  {
   "cell_type": "code",
   "execution_count": null,
   "metadata": {},
   "outputs": [],
   "source": []
  }
 ],
 "metadata": {
  "kernelspec": {
   "display_name": "Python 3",
   "language": "python",
   "name": "python3"
  },
  "language_info": {
   "codemirror_mode": {
    "name": "ipython",
    "version": 3
   },
   "file_extension": ".py",
   "mimetype": "text/x-python",
   "name": "python",
   "nbconvert_exporter": "python",
   "pygments_lexer": "ipython3",
   "version": "3.7.3"
  }
 },
 "nbformat": 4,
 "nbformat_minor": 2
}
