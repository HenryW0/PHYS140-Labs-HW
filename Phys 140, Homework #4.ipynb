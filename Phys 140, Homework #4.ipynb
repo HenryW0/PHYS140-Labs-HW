{
 "cells": [
  {
   "cell_type": "code",
   "execution_count": 1,
   "metadata": {},
   "outputs": [
    {
     "name": "stdout",
     "output_type": "stream",
     "text": [
      "The Potential for a lattice with a length of 100 is -1.7361319160639026\n"
     ]
    }
   ],
   "source": [
    "import numpy as np \n",
    "\n",
    "L = 50 #half the length of the cube / Takes less than 3 seconds for a size of 50 / Used time.time() to measure this\n",
    "V_Total = 0  \n",
    "\n",
    "def Magnitude(i,j,k): #Function is not necessary but I added it since it is being used twice\n",
    "    M = np.sqrt((i**2) + (j**2) + (k**2))\n",
    "    return M\n",
    "\n",
    "for i in range(-L, L+1):\n",
    "    for j in range(-L, L+1):\n",
    "        for k in range(-L, L+1): \n",
    "            if (i + j + k)%2 == 1:\n",
    "                V_Total -= (1/(Magnitude(i,j,k))) #For odd locations\n",
    "            elif i == j == k == 0:\n",
    "                continue #skips the origin\n",
    "            else: \n",
    "                V_Total += (1/(Magnitude(i,j,k))) #For even locations\n",
    "\n",
    "print(f'The Potential for a lattice with a length of {L*2} is {V_Total}')"
   ]
  },
  {
   "cell_type": "code",
   "execution_count": null,
   "metadata": {},
   "outputs": [],
   "source": []
  },
  {
   "cell_type": "code",
   "execution_count": null,
   "metadata": {},
   "outputs": [],
   "source": []
  }
 ],
 "metadata": {
  "kernelspec": {
   "display_name": "Python 3",
   "language": "python",
   "name": "python3"
  },
  "language_info": {
   "codemirror_mode": {
    "name": "ipython",
    "version": 3
   },
   "file_extension": ".py",
   "mimetype": "text/x-python",
   "name": "python",
   "nbconvert_exporter": "python",
   "pygments_lexer": "ipython3",
   "version": "3.7.3"
  }
 },
 "nbformat": 4,
 "nbformat_minor": 2
}
