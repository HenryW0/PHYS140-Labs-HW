{
 "cells": [
  {
   "cell_type": "code",
   "execution_count": 1,
   "metadata": {},
   "outputs": [],
   "source": [
    "import numpy as np\n",
    "from matplotlib.pylab import *"
   ]
  },
  {
   "cell_type": "code",
   "execution_count": 2,
   "metadata": {},
   "outputs": [],
   "source": [
    "# Linear size of the grid\n",
    "Nx = 30\n",
    "V0 = 0.0 \n",
    "\n",
    "a = 1/(Nx - 1) #L / (Nx - 1) L is the 1 \n",
    "\n",
    "phi = np.zeros([Nx,Nx])\n",
    "rho = np.zeros([Nx,Nx])\n",
    "\n",
    "rho[Nx * 6//10: Nx * 8//10, Nx * 6//10: Nx * 8//10] = 1\n",
    "\n",
    "\n",
    "# Setting the boundary condition\n",
    "phi[:,Nx-1] = V0\n",
    "\n",
    "# Important to copy phi to phi_prime after setting the boundary condition\n",
    "phi_prime = np.copy(phi)"
   ]
  },
  {
   "cell_type": "code",
   "execution_count": 3,
   "metadata": {},
   "outputs": [],
   "source": [
    "s = 1000.\n",
    "\n",
    "while s > 1e-6:\n",
    "    for i in range(1,Nx-1):\n",
    "        for j in range(1,Nx-1):\n",
    "            phi_prime[i,j] = 0.25*(phi[i+1,j]+phi[i-1,j]+phi[i,j+1]+phi[i,j-1]) + a**2 * rho[i,j]/4\n",
    "    s = sum(np.abs(phi - phi_prime))\n",
    "    phi = np.copy(phi_prime)"
   ]
  },
  {
   "cell_type": "code",
   "execution_count": 4,
   "metadata": {},
   "outputs": [
    {
     "data": {
      "image/png": "[encoded data removed]",
      "text/plain": [
       "<Figure size 432x288 with 2 Axes>"
      ]
     },
     "metadata": {
      "needs_background": "light"
     },
     "output_type": "display_data"
    }
   ],
   "source": [
    "imshow(phi.T, origin='lower', cmap ='jet' , interpolation = 'none')\n",
    "colorbar()\n",
    "show()"
   ]
  },
  {
   "cell_type": "code",
   "execution_count": null,
   "metadata": {},
   "outputs": [],
   "source": []
  }
 ],
 "metadata": {
  "kernelspec": {
   "display_name": "Python 3 (ipykernel)",
   "language": "python",
   "name": "python3"
  },
  "language_info": {
   "codemirror_mode": {
    "name": "ipython",
    "version": 3
   },
   "file_extension": ".py",
   "mimetype": "text/x-python",
   "name": "python",
   "nbconvert_exporter": "python",
   "pygments_lexer": "ipython3",
   "version": "3.7.13"
  }
 },
 "nbformat": 4,
 "nbformat_minor": 2
}
