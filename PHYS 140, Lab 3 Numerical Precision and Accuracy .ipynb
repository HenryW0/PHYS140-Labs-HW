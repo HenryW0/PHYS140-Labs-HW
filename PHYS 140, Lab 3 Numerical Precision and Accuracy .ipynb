{
 "cells": [
  {
   "cell_type": "code",
   "execution_count": 5,
   "metadata": {},
   "outputs": [
    {
     "name": "stdout",
     "output_type": "stream",
     "text": [
      "2.2204460492503131e-16\n",
      "1.0000000000000002e+00\n",
      "1.0000000000000000e+00\n"
     ]
    }
   ],
   "source": [
    "import numpy as np\n",
    "import math \n",
    "\n",
    "eps = 2**(-52)\n",
    "print('%.16e' %(eps))\n",
    "\n",
    "print('%.16e' %(1. + eps))\n",
    "print('%.16e' %(1. + eps/2))\n",
    "\n",
    "#This happens because the computer can still compute the machine epsilon since it can still fit in the mantissa\n",
    "#however once you divide it by 2 it becomes too small for it to be computed which is why the second line is only 1.0 "
   ]
  },
  {
   "cell_type": "code",
   "execution_count": 31,
   "metadata": {},
   "outputs": [
    {
     "name": "stdout",
     "output_type": "stream",
     "text": [
      "4.9406564584124654e-324\n",
      "4.9406564584124654e-324\n"
     ]
    }
   ],
   "source": [
    "print('%.16e' %(2.0**(-1074)))\n",
    "print('%.16e' %(2.0**(-1075)))\n",
    "\n",
    "#The values it prints out are both the exact same value, the computer cannot distingush between them because\n",
    "# it is too small and not precise enough"
   ]
  },
  {
   "cell_type": "code",
   "execution_count": 54,
   "metadata": {},
   "outputs": [
    {
     "name": "stdout",
     "output_type": "stream",
     "text": [
      "1.9999999999999996\n",
      "1.9999999999999998\n"
     ]
    }
   ],
   "source": [
    "n = 52\n",
    "sum_val = 0    \n",
    "\n",
    "for i in range(0, n):\n",
    "    sum_val += 2**(-i)\n",
    "    \n",
    "print(sum_val)\n",
    "print(2 - 2**(-52))\n",
    "\n",
    "# This value is close to 2 because in binary 1.111111...1 is approaching the value 2 which would be represented as 10\n",
    "# The estimate is simply computing 2 - machine epsilon which is close to the value "
   ]
  },
  {
   "cell_type": "code",
   "execution_count": 79,
   "metadata": {},
   "outputs": [
    {
     "data": {
      "text/plain": [
       "8.98846567431158e+307"
      ]
     },
     "execution_count": 79,
     "metadata": {},
     "output_type": "execute_result"
    }
   ],
   "source": [
    "2.0**1023\n",
    "\n",
    "#There are only 10 digits of precision inside the exponent (excluding the sign) therefore 1024 would give an error since\n",
    "# that would be 2 ** 10 and it can only store 2^n - 1 as the largest number, any number after this would give overflow"
   ]
  },
  {
   "cell_type": "code",
   "execution_count": 61,
   "metadata": {},
   "outputs": [
    {
     "name": "stdout",
     "output_type": "stream",
     "text": [
      "1.4210854715202004\n",
      "1.4142135623730951\n"
     ]
    }
   ],
   "source": [
    "x = 1 \n",
    "y = 1 + 10**(-14) * math.sqrt(2)\n",
    "print((y - x) * 10**14) #Estimate of square root of 2\n",
    "print(math.sqrt(2)) #Estimate using the math package sqrt \n",
    "\n",
    "#The square root from the math package is more accurate, this difference is due to the estimate\n",
    "#altering the values multiple times as opposed to once, the 10^14 also makes the estimate lose accuracy \n",
    "#This should be expected as we are complicating the estimation with very large numbers that are not needed"
   ]
  },
  {
   "cell_type": "code",
   "execution_count": 20,
   "metadata": {},
   "outputs": [
    {
     "name": "stdout",
     "output_type": "stream",
     "text": [
      "Enter coefficients (a,b,c): 1e-3, 1e+3, 1e-3\n",
      "x is equal to -9.9998942459933460e-07 and -9.9999999999899999e+05\n",
      "x prime is equal to -1.0000000000010001e-06 and -1.0000105755125057e+06\n"
     ]
    }
   ],
   "source": [
    "a,b,c = eval(input('Enter coefficients (a,b,c): '))\n",
    "#Does not work for complex numbers\n",
    "\n",
    "def quadratic1(a , b , c) : \n",
    "    quadratic1 = (-b + math.sqrt(b**2-4*a*c))/(2*a)\n",
    "    return quadratic1\n",
    "x1=quadratic1(a, b, c)\n",
    "\n",
    "def quadratic2(a , b , c) : \n",
    "    quadratic2 = (-b - math.sqrt(b**2-4*a*c))/(2*a)\n",
    "    return quadratic2\n",
    "x2=quadratic2(a, b, c)\n",
    "print('x is equal to %.16e and %.16e' %(x1, x2))\n",
    "\n",
    "#Results are x is equal to -9.9998942459933460e-07 and -9.9999999999899999e+05\n",
    "\n",
    "def quadprime1(a,b,c):\n",
    "    quadprime1 = 2*c / ((-b - math.sqrt(b**2-4*a*c)))\n",
    "    return quadprime1\n",
    "\n",
    "x1prime = quadprime1(a,b,c)\n",
    "\n",
    "def quadprime2(a,b,c):\n",
    "    quadprime2 = 2*c / ((-b + math.sqrt(b**2-4*a*c)))\n",
    "    return quadprime2\n",
    "\n",
    "x2prime = quadprime2(a,b,c)\n",
    "\n",
    "print('x prime is equal to %.16e and %.16e' %(x1prime, x2prime))\n",
    "\n",
    "#The values are flipped due to the equation being rewriten a different way, but the values are also slightly different\n",
    "# as shown below in the print statements\n",
    "\n",
    "# Part D:\n",
    "# The most accurate roots are x2 and x1 prime this is because inside the equation two close numbers are being added\n",
    "# (two negative numbers) where as in the other equations you have -b + a number close to b and this is the source\n",
    "# of the loss of precision due to the close numbers being subtracted\n",
    "\n",
    "# Part E: \n",
    "# The two accurate roots would become x1 and x2 prime because the signs flip now they are being added\n",
    "# and the other roots are having to subtract close numbers which causes loss of precision\n"
   ]
  },
  {
   "cell_type": "code",
   "execution_count": 40,
   "metadata": {},
   "outputs": [
    {
     "name": "stdout",
     "output_type": "stream",
     "text": [
      "-9.999894245993346e-07 -999999.999999\n"
     ]
    }
   ],
   "source": [
    "# Extra Credit\n",
    "\n",
    "#Using binomial series of (b^2 - 4ac)^1/2\n",
    "#(1+x)^ n becomes b(1 - 4ac/b^2)**1/2 where n = 1/2 and x = -4ac/b^2 so it becomes in the same form as the binomial expansion\n",
    "# (1+x)^ n simply approximately 1 + nx , if we plug back it in we obtain - b +- b(1+nx)/2a and depending on the +/-\n",
    "# you get the roots equal to -b/a and -c/b \n",
    "\n",
    "a2 = 1e-3\n",
    "b2 = 1e+3\n",
    "c2 = 1e-3\n",
    "\n",
    "# (1+x) ^ n 1 + nx \n",
    "\n",
    "x_term = - 4*a2*c2/b2**2\n",
    "n = 1/2\n",
    "\n",
    "Approx_Value = 1 + n*x_term\n",
    "Approx_Value *= 1000 #multiply by 1000 because we factored out a b \n",
    "\n",
    "Root1 = (- b2 + Approx_Value)/(2*a2)\n",
    "Root2 = (- b2 - Approx_Value)/(2*a2)\n",
    "\n",
    "print(Root1, Root2)\n",
    "\n",
    "#We can see that our values below match the roots from part b "
   ]
  },
  {
   "cell_type": "code",
   "execution_count": null,
   "metadata": {},
   "outputs": [],
   "source": []
  },
  {
   "cell_type": "code",
   "execution_count": null,
   "metadata": {},
   "outputs": [],
   "source": []
  }
 ],
 "metadata": {
  "kernelspec": {
   "display_name": "Python 3",
   "language": "python",
   "name": "python3"
  },
  "language_info": {
   "codemirror_mode": {
    "name": "ipython",
    "version": 3
   },
   "file_extension": ".py",
   "mimetype": "text/x-python",
   "name": "python",
   "nbconvert_exporter": "python",
   "pygments_lexer": "ipython3",
   "version": "3.7.3"
  }
 },
 "nbformat": 4,
 "nbformat_minor": 2
}
