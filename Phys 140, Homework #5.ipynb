{
 "cells": [
  {
   "cell_type": "code",
   "execution_count": 2,
   "metadata": {},
   "outputs": [
    {
     "name": "stdout",
     "output_type": "stream",
     "text": [
      "The binding energy for an atom with A = 58 and Z = 28 is 493.936 MeV\n"
     ]
    }
   ],
   "source": [
    "import math\n",
    "\n",
    "#1) A: It is a good practice to import all functions and define all constants and parameters at the beginning of the program.\n",
    "\n",
    "#2)\n",
    "\n",
    "a1 = 15.67 #Set up constants\n",
    "a2 = 17.23\n",
    "a3 = 0.75\n",
    "a4 = 93.2\n",
    "\n",
    "def a_5(A,Z): #Create function to determine what a5 is \n",
    "    if A % 2 == 1:\n",
    "        a5 = 0 \n",
    "        return a5\n",
    "    elif A % 2 == Z % 2 == 0:\n",
    "        a5 = 12.0\n",
    "        return a5\n",
    "    elif A % 2 == 0 and Z % 2 == 1:\n",
    "        a5 = -12.0\n",
    "        return a5\n",
    "        \n",
    "def Bind_Energy(A,Z):\n",
    "    B = (a1 * A) - (a2 * A**(2/3)) - (a3 * Z**2 / A**(1/3)) - (a4 * (A - 2*Z)**2 /A) + (a_5(A,Z)/A**(1/2)) \n",
    "    return B\n",
    "\n",
    "print(f'The binding energy for an atom with A = 58 and Z = 28 is {Bind_Energy(58, 28):.3f} MeV')"
   ]
  },
  {
   "cell_type": "code",
   "execution_count": 3,
   "metadata": {},
   "outputs": [
    {
     "name": "stdout",
     "output_type": "stream",
     "text": [
      "Enter value for Z: 28\n",
      "The largest binding energy is 502.6289808531948 MeV\n",
      "The value of A for the largest binding energy is 60\n"
     ]
    }
   ],
   "source": [
    "# Extra Credit:\n",
    "\n",
    "Z_input = int(input('Enter value for Z: '))\n",
    "A = Z_input\n",
    "energy = []\n",
    "\n",
    "for i in range(Z_input, 3*Z_input + 1):\n",
    "    BE = Bind_Energy(i, Z_input)\n",
    "    energy.append(BE)\n",
    "    \n",
    "print(f'The largest binding energy is {max(energy)} MeV')\n",
    "print(f'The value of A for the largest binding energy is {28 + energy.index(max(energy))}')"
   ]
  },
  {
   "cell_type": "code",
   "execution_count": 4,
   "metadata": {},
   "outputs": [
    {
     "name": "stdout",
     "output_type": "stream",
     "text": [
      "3.940544068618291e-10\n"
     ]
    }
   ],
   "source": [
    "#Golden Mean Part A\n",
    "\n",
    "GM = (math.sqrt(5) + 1)/2 #Golden Mean \n",
    "#Phi is equal to GM - 1 \n",
    "\n",
    "N = 45 #maximum power\n",
    "\n",
    "Phi_n = 1 #Represents Phi to the nth power\n",
    "Phi_List = list()\n",
    "\n",
    "for i in range(1, N+2): #Plus 2 since the range does not include the last term and the first is technically the 0th power\n",
    "    Phi_List.append(Phi_n)\n",
    "    Phi_n = (GM - 1) * Phi_n\n",
    "    \n",
    "print(Phi_List[N]) # Phi to the Nth power"
   ]
  },
  {
   "cell_type": "code",
   "execution_count": 6,
   "metadata": {},
   "outputs": [
    {
     "name": "stdout",
     "output_type": "stream",
     "text": [
      "[1, 0.6180339887498949, 0.3819660112501052, 0.23606797749978975, 0.14589803375031551, 0.09016994374947429, 0.05572809000084125, 0.03444185374863305, 0.021286236252208206, 0.01315561749642485, 0.008130618755783357, 0.005024998740641495, 0.003105620015141862, 0.0019193787254996341, 0.0011862412896422286, 0.000733137435857406, 0.00045310385378482284, 0.00028003358207258323, 0.00017307027171223967, 0.00010696331036034358, 6.61069613518961e-05, 4.085634900844749e-05, 2.5250612343448615e-05, 1.560573666499888e-05, 9.64487567844974e-06, 5.960860986549141e-06, 3.6840146919005996e-06, 2.2768462946485426e-06, 1.4071683972520572e-06, 8.696778973964855e-07, 5.374904998555718e-07, 3.321873975409138e-07, 2.05303102314658e-07, 1.2688429522625587e-07, 7.841880708840217e-08, 4.846548813785372e-08, 2.995331895054845e-08, 1.8512169187305277e-08, 1.144114976324318e-08, 7.071019424062098e-09, 4.370130339181083e-09, 2.7008890848810156e-09, 1.6692412543000675e-09, 1.0316478305809483e-09, 6.375934237191192e-10, 3.940544068618291e-10]\n",
      "\n",
      "[1, 0.6180339887498949, 0.3819660112501051, 0.2360679774997898, 0.1458980337503153, 0.09016994374947451, 0.05572809000084078, 0.03444185374863373, 0.021286236252207047, 0.013155617496426686, 0.008130618755780361, 0.005024998740646325, 0.0031056200151340363, 0.0019193787255122885, 0.0011862412896217478, 0.0007331374358905407, 0.0004531038537312071, 0.0002800335821593336, 0.0001730702715718735, 0.00010696331058746011, 6.610696098441338e-05, 4.085634960304674e-05, 2.525061138136664e-05, 1.56057382216801e-05, 9.64487315968654e-06, 5.960865061993559e-06, 3.684008097692981e-06, 2.2768569643005776e-06, 1.4071511333924036e-06, 8.69705830908174e-07, 5.374453024842296e-07, 3.322605284239444e-07, 2.0518477406028524e-07, 1.2707575436365914e-07, 7.810901969662609e-08, 4.896673466703305e-08, 2.914228502959304e-08, 1.982444963744001e-08, 9.317835392153029e-09, 1.0506614245286983e-08, -1.1887788531339538e-09, 1.1695393098420936e-08, -1.288417195155489e-08, 2.4579565049975827e-08, -3.746373700153072e-08, 6.204330205150654e-08]\n"
     ]
    }
   ],
   "source": [
    "#Golden Mean Part B and C\n",
    "\n",
    "recursion = [1, GM - 1]\n",
    "\n",
    "n = 45 #max power\n",
    "for i in range(0, n-1):\n",
    "    phi_n = recursion[i] - recursion[i+1]\n",
    "    recursion.append(phi_n)\n",
    "\n",
    "print(Phi_List) #First list\n",
    "print('')\n",
    "print(recursion) #Second list\n",
    "\n",
    "\n",
    "\n",
    "#As you can see below the two lists are different, using the recursion relation you can see that some elements in the list\n",
    "# are negative when they should not be, this is due to the fact that repeated subtraction causes the loss of precision for\n",
    "# floats. Knowing this, the first list is the accurate one as it does not rely on subtraction. "
   ]
  },
  {
   "cell_type": "code",
   "execution_count": null,
   "metadata": {},
   "outputs": [],
   "source": []
  },
  {
   "cell_type": "code",
   "execution_count": null,
   "metadata": {},
   "outputs": [],
   "source": []
  },
  {
   "cell_type": "code",
   "execution_count": null,
   "metadata": {},
   "outputs": [],
   "source": []
  }
 ],
 "metadata": {
  "kernelspec": {
   "display_name": "Python 3",
   "language": "python",
   "name": "python3"
  },
  "language_info": {
   "codemirror_mode": {
    "name": "ipython",
    "version": 3
   },
   "file_extension": ".py",
   "mimetype": "text/x-python",
   "name": "python",
   "nbconvert_exporter": "python",
   "pygments_lexer": "ipython3",
   "version": "3.7.3"
  }
 },
 "nbformat": 4,
 "nbformat_minor": 2
}
